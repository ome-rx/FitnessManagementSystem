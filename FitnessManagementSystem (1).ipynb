{
  "nbformat": 4,
  "nbformat_minor": 0,
  "metadata": {
    "colab": {
      "provenance": []
    },
    "kernelspec": {
      "name": "python3",
      "display_name": "Python 3"
    },
    "language_info": {
      "name": "python"
    }
  },
  "cells": [
    {
      "cell_type": "code",
      "execution_count": null,
      "metadata": {
        "colab": {
          "base_uri": "https://localhost:8080/"
        },
        "id": "rakCryzA6cX4",
        "outputId": "a2c0f964-9689-4973-9bd0-b53d028e0283"
      },
      "outputs": [
        {
          "output_type": "stream",
          "name": "stderr",
          "text": [
            "ERROR:root:Connection name \"sqlite:///mydatabase.db\" not recognized\n"
          ]
        },
        {
          "output_type": "stream",
          "name": "stdout",
          "text": [
            "The sql_magic extension is already loaded. To reload it, use:\n",
            "  %reload_ext sql_magic\n"
          ]
        }
      ],
      "source": [
        "!pip install -q sql_magic\n",
        "\n",
        "# Load the SQL magic extension\n",
        "%load_ext sql_magic\n",
        "\n",
        "# Connect to an SQLite in-memory database\n",
        "%config SQL.conn_name = 'sqlite:///mydatabase.db'"
      ]
    },
    {
      "cell_type": "code",
      "source": [
        "!pip install -q ipython-sql"
      ],
      "metadata": {
        "id": "Z1UAGFJd6zD5"
      },
      "execution_count": null,
      "outputs": []
    },
    {
      "cell_type": "code",
      "source": [
        "%load_ext sql"
      ],
      "metadata": {
        "id": "LFf4WP7f60dR",
        "colab": {
          "base_uri": "https://localhost:8080/"
        },
        "outputId": "0626d6d3-8f1e-44b1-a6cb-767c282226a4"
      },
      "execution_count": null,
      "outputs": [
        {
          "output_type": "stream",
          "name": "stdout",
          "text": [
            "The sql extension is already loaded. To reload it, use:\n",
            "  %reload_ext sql\n"
          ]
        }
      ]
    },
    {
      "cell_type": "code",
      "source": [
        "%sql sqlite:///mydatabase.db"
      ],
      "metadata": {
        "id": "6ejpomap61Io"
      },
      "execution_count": null,
      "outputs": []
    },
    {
      "cell_type": "code",
      "source": [
        "%%sql\n",
        "CREATE DATABASE FitnessManagementSystem;\n",
        "\n",
        "-- Use the database\n",
        "USE FitnessManagementSystem;\n",
        "\n",
        "-- Create a table for gym members\n",
        "CREATE TABLE Members(\n",
        "    MemberID INT PRIMARY KEY,\n",
        "    Name VARCHAR(255) NOT NULL,\n",
        "    FeeStatus VARCHAR(10) DEFAULT 'Pending'\n",
        ");\n",
        "\n",
        "-- Create a table for trainers\n",
        "CREATE TABLE Trainers (\n",
        "    TrainerID INT PRIMARY KEY,\n",
        "    Name VARCHAR(255) NOT NULL,\n",
        "    Specialization VARCHAR(255) NOT NULL,\n",
        "    Salary DECIMAL(10, 2) DEFAULT 0.00 NOT NULL,\n",
        "    MemberTrained INT,\n",
        "\n",
        "    FOREIGN KEY (MemberTrained) REFERENCES Members(MemberID)\n",
        ");\n",
        "\n",
        "\n",
        "-- Create a table for staff\n",
        "CREATE TABLE Staff(\n",
        "    StaffID INT PRIMARY KEY,\n",
        "    Name VARCHAR(255) NOT NULL,\n",
        "    Position VARCHAR(255) NOT NULL,\n",
        "    SalaryStatus VARCHAR(10) DEFAULT 'Unpaid'\n",
        ");\n",
        "\n",
        "-- Create a table to track which trainer trains which member\n",
        "CREATE TABLE MemberTrainerMapping(\n",
        "    MemberID INT,\n",
        "    TrainerID INT,\n",
        "    FOREIGN KEY (MemberID) REFERENCES Members(MemberID),\n",
        "    FOREIGN KEY (TrainerID) REFERENCES Trainers(TrainerID),\n",
        "    PRIMARY KEY (MemberID, TrainerID)\n",
        ");"
      ],
      "metadata": {
        "colab": {
          "base_uri": "https://localhost:8080/"
        },
        "id": "lSKJNfIT6pYR",
        "outputId": "5a90af0e-d40e-45ff-8553-70e996073cf8"
      },
      "execution_count": null,
      "outputs": [
        {
          "output_type": "stream",
          "name": "stdout",
          "text": [
            " * sqlite:///mydatabase.db\n",
            "(sqlite3.OperationalError) near \"DATABASE\": syntax error\n",
            "[SQL: CREATE DATABASE FitnessManagementSystem;]\n",
            "(Background on this error at: https://sqlalche.me/e/20/e3q8)\n"
          ]
        }
      ]
    },
    {
      "cell_type": "code",
      "source": [
        "import sqlite3\n",
        "\n",
        "# Connect to the SQLite database\n",
        "conn = sqlite3.connect('FitnessManagementSystem.db')\n",
        "cursor = conn.cursor()\n",
        "\n",
        "def display_menu():\n",
        "    print(\"\\nFitness Management System Menu:\")\n",
        "    print(\"1. Add Gym Member\")\n",
        "    print(\"2. Remove Gym Member\")\n",
        "    print(\"3. Add Trainer\")\n",
        "    print(\"4. Remove Trainer\")\n",
        "    print(\"5. Add Staff\")\n",
        "    print(\"6. Remove Staff\")\n",
        "    print(\"7. View Member Information\")\n",
        "    print(\"8. View Trainer Information\")\n",
        "    print(\"9. View Staff Information\")\n",
        "    print(\"0. Exit\")\n",
        "\n",
        "# Function to add a gym member\n",
        "def add_member():\n",
        "    name = input(\"Enter member name: \")\n",
        "    cursor.execute(\"INSERT INTO Members (Name) VALUES (?)\", (name,))\n",
        "    conn.commit()\n",
        "    print(f\"{name} has been added as a gym member.\")\n",
        "\n",
        "# Function to remove a gym member\n",
        "def remove_member():\n",
        "    member_id = input(\"Enter member ID to remove: \")\n",
        "    cursor.execute(\"DELETE FROM Members WHERE MemberID=?\", (member_id,))\n",
        "    conn.commit()\n",
        "    print(f\"Member with ID {member_id} has been removed.\")\n",
        "\n",
        "# Function to add a trainer\n",
        "def add_trainer():\n",
        "    name = input(\"Enter trainer name: \")\n",
        "    specialization = input(\"Enter trainer specialization: \")\n",
        "    cursor.execute(\"INSERT INTO Trainers (Name, Specialization) VALUES (?, ?)\", (name, specialization))\n",
        "    conn.commit()\n",
        "    print(f\"{name} has been added as a trainer.\")\n",
        "\n",
        "# Function to remove a trainer\n",
        "def remove_trainer():\n",
        "    trainer_id = input(\"Enter trainer ID to remove: \")\n",
        "    cursor.execute(\"DELETE FROM Trainers WHERE TrainerID=?\", (trainer_id,))\n",
        "    conn.commit()\n",
        "    print(f\"Trainer with ID {trainer_id} has been removed.\")\n",
        "\n",
        "# Function to add staff\n",
        "def add_staff():\n",
        "    name = input(\"Enter staff name: \")\n",
        "    position = input(\"Enter staff position: \")\n",
        "    cursor.execute(\"INSERT INTO Staff (Name, Position) VALUES (?, ?)\", (name, position))\n",
        "    conn.commit()\n",
        "    print(f\"{name} has been added as staff.\")\n",
        "\n",
        "# Function to remove staff\n",
        "def remove_staff():\n",
        "    staff_id = input(\"Enter staff ID to remove: \")\n",
        "    cursor.execute(\"DELETE FROM Staff WHERE StaffID=?\", (staff_id,))\n",
        "    conn.commit()\n",
        "    print(f\"Staff with ID {staff_id} has been removed.\")\n",
        "\n",
        "# Function to view member information\n",
        "def view_member_info():\n",
        "    cursor.execute(\"SELECT * FROM Members\")\n",
        "    members = cursor.fetchall()\n",
        "    print(\"\\nGym Member Information:\")\n",
        "    for member in members:\n",
        "        print(f\"Member ID: {member[0]}, Name: {member[1]}, Fee Status: {member[2]}\")\n",
        "\n",
        "# Function to view trainer information\n",
        "def view_trainer_info(cursor):\n",
        "    cursor.execute(\"SELECT * FROM Trainers\")\n",
        "    trainers = cursor.fetchall()\n",
        "\n",
        "    print(\"\\nGym Trainer Information:\")\n",
        "    for trainer in trainers:\n",
        "        trainer_id, name, salary, member_trained = trainer\n",
        "        cursor.execute(f\"SELECT * FROM Members WHERE TrainerID = {trainer_id}\")\n",
        "        trained_members = cursor.fetchall()\n",
        "\n",
        "        print(f\"Trainer ID: {trainer_id}, Name: {name}, Salary: {salary}, Member Trained: {member_trained}\")\n",
        "\n",
        "        print(\"Trained Members:\")\n",
        "        for member in trained_members:\n",
        "            member_id, member_name, fee_status = member\n",
        "            print(f\"    Member ID: {member_id}, Name: {member_name}, Fee Status: {fee_status}\")\n",
        "\n",
        "# Function to view staff information\n",
        "def view_staff_info():\n",
        "    cursor.execute(\"SELECT * FROM Staff\")\n",
        "    staff = cursor.fetchall()\n",
        "    print(\"\\nStaff Information:\")\n",
        "    for member in staff:\n",
        "        print(f\"Staff ID: {member[0]}, Name: {member[1]}, Position: {member[2]}, Salary Status: {member[3]}\")\n",
        "\n",
        "# Main program loop\n",
        "while True:\n",
        "    display_menu()\n",
        "    choice = input(\"Enter your choice (0-9): \")\n",
        "\n",
        "    if choice == '1':\n",
        "        add_member()\n",
        "    elif choice == '2':\n",
        "        remove_member()\n",
        "    elif choice == '3':\n",
        "        add_trainer()\n",
        "    elif choice == '4':\n",
        "        remove_trainer()\n",
        "    elif choice == '5':\n",
        "        add_staff()\n",
        "    elif choice == '6':\n",
        "        remove_staff()\n",
        "    elif choice == '7':\n",
        "        view_member_info()\n",
        "    elif choice == '8':\n",
        "        view_trainer_info()\n",
        "    elif choice == '9':\n",
        "        view_staff_info()\n",
        "    elif choice == '0':\n",
        "        break\n",
        "    else:\n",
        "        print(\"Invalid choice. Please enter a number between 0 and 9.\")\n",
        "\n",
        "# Close the database connection\n",
        "conn.close()"
      ],
      "metadata": {
        "colab": {
          "base_uri": "https://localhost:8080/",
          "height": 609
        },
        "id": "rnGTkz_R64eh",
        "outputId": "8f0ad5f9-e0ea-4c84-9229-7726170c387d"
      },
      "execution_count": null,
      "outputs": [
        {
          "name": "stdout",
          "output_type": "stream",
          "text": [
            "\n",
            "Fitness Management System Menu:\n",
            "1. Add Gym Member\n",
            "2. Remove Gym Member\n",
            "3. Add Trainer\n",
            "4. Remove Trainer\n",
            "5. Add Staff\n",
            "6. Remove Staff\n",
            "7. View Member Information\n",
            "8. View Trainer Information\n",
            "9. View Staff Information\n",
            "0. Exit\n",
            "Enter your choice (0-9): 1\n",
            "Enter member name: omer\n"
          ]
        },
        {
          "output_type": "error",
          "ename": "OperationalError",
          "evalue": "ignored",
          "traceback": [
            "\u001b[0;31m---------------------------------------------------------------------------\u001b[0m",
            "\u001b[0;31mOperationalError\u001b[0m                          Traceback (most recent call last)",
            "\u001b[0;32m<ipython-input-13-6bbfccbbbf6f>\u001b[0m in \u001b[0;36m<cell line: 99>\u001b[0;34m()\u001b[0m\n\u001b[1;32m    102\u001b[0m \u001b[0;34m\u001b[0m\u001b[0m\n\u001b[1;32m    103\u001b[0m     \u001b[0;32mif\u001b[0m \u001b[0mchoice\u001b[0m \u001b[0;34m==\u001b[0m \u001b[0;34m'1'\u001b[0m\u001b[0;34m:\u001b[0m\u001b[0;34m\u001b[0m\u001b[0;34m\u001b[0m\u001b[0m\n\u001b[0;32m--> 104\u001b[0;31m         \u001b[0madd_member\u001b[0m\u001b[0;34m(\u001b[0m\u001b[0;34m)\u001b[0m\u001b[0;34m\u001b[0m\u001b[0;34m\u001b[0m\u001b[0m\n\u001b[0m\u001b[1;32m    105\u001b[0m     \u001b[0;32melif\u001b[0m \u001b[0mchoice\u001b[0m \u001b[0;34m==\u001b[0m \u001b[0;34m'2'\u001b[0m\u001b[0;34m:\u001b[0m\u001b[0;34m\u001b[0m\u001b[0;34m\u001b[0m\u001b[0m\n\u001b[1;32m    106\u001b[0m         \u001b[0mremove_member\u001b[0m\u001b[0;34m(\u001b[0m\u001b[0;34m)\u001b[0m\u001b[0;34m\u001b[0m\u001b[0;34m\u001b[0m\u001b[0m\n",
            "\u001b[0;32m<ipython-input-13-6bbfccbbbf6f>\u001b[0m in \u001b[0;36madd_member\u001b[0;34m()\u001b[0m\n\u001b[1;32m     21\u001b[0m \u001b[0;32mdef\u001b[0m \u001b[0madd_member\u001b[0m\u001b[0;34m(\u001b[0m\u001b[0;34m)\u001b[0m\u001b[0;34m:\u001b[0m\u001b[0;34m\u001b[0m\u001b[0;34m\u001b[0m\u001b[0m\n\u001b[1;32m     22\u001b[0m     \u001b[0mname\u001b[0m \u001b[0;34m=\u001b[0m \u001b[0minput\u001b[0m\u001b[0;34m(\u001b[0m\u001b[0;34m\"Enter member name: \"\u001b[0m\u001b[0;34m)\u001b[0m\u001b[0;34m\u001b[0m\u001b[0;34m\u001b[0m\u001b[0m\n\u001b[0;32m---> 23\u001b[0;31m     \u001b[0mcursor\u001b[0m\u001b[0;34m.\u001b[0m\u001b[0mexecute\u001b[0m\u001b[0;34m(\u001b[0m\u001b[0;34m\"INSERT INTO Members (Name) VALUES (?)\"\u001b[0m\u001b[0;34m,\u001b[0m \u001b[0;34m(\u001b[0m\u001b[0mname\u001b[0m\u001b[0;34m,\u001b[0m\u001b[0;34m)\u001b[0m\u001b[0;34m)\u001b[0m\u001b[0;34m\u001b[0m\u001b[0;34m\u001b[0m\u001b[0m\n\u001b[0m\u001b[1;32m     24\u001b[0m     \u001b[0mconn\u001b[0m\u001b[0;34m.\u001b[0m\u001b[0mcommit\u001b[0m\u001b[0;34m(\u001b[0m\u001b[0;34m)\u001b[0m\u001b[0;34m\u001b[0m\u001b[0;34m\u001b[0m\u001b[0m\n\u001b[1;32m     25\u001b[0m     \u001b[0mprint\u001b[0m\u001b[0;34m(\u001b[0m\u001b[0;34mf\"{name} has been added as a gym member.\"\u001b[0m\u001b[0;34m)\u001b[0m\u001b[0;34m\u001b[0m\u001b[0;34m\u001b[0m\u001b[0m\n",
            "\u001b[0;31mOperationalError\u001b[0m: no such table: Members"
          ]
        }
      ]
    },
    {
      "cell_type": "code",
      "source": [
        "import sqlite3\n",
        "\n",
        "# Connect to the SQLite database\n",
        "conn = sqlite3.connect('FitnessManagementSystem.db')\n",
        "cursor = conn.cursor()\n",
        "\n",
        "def display_menu():\n",
        "    print(\"\\nFitness Management System Menu:\")\n",
        "    print(\"1. Add Gym Member\")\n",
        "    print(\"2. Remove Gym Member\")\n",
        "    print(\"3. Add Trainer\")\n",
        "    print(\"4. Remove Trainer\")\n",
        "    print(\"5. Add Staff\")\n",
        "    print(\"6. Remove Staff\")\n",
        "    print(\"7. View Member Information\")\n",
        "    print(\"8. View Trainer Information\")\n",
        "    print(\"9. View Staff Information\")\n",
        "    print(\"0. Exit\")\n",
        "\n",
        "# Function to add a gym member\n",
        "def add_member():\n",
        "    name = input(\"Enter member name: \")\n",
        "    cursor.execute(\"INSERT INTO Members (Name) VALUES (?)\", (name,))\n",
        "    conn.commit()\n",
        "    print(f\"{name} has been added as a gym member.\")\n",
        "\n",
        "# Function to remove a gym member\n",
        "def remove_member():\n",
        "    member_id = input(\"Enter member ID to remove: \")\n",
        "    cursor.execute(\"DELETE FROM Members WHERE MemberID=?\", (member_id,))\n",
        "    conn.commit()\n",
        "    print(f\"Member with ID {member_id} has been removed.\")\n",
        "\n",
        "# Function to add a trainer\n",
        "def add_trainer():\n",
        "    name = input(\"Enter trainer name: \")\n",
        "    specialization = input(\"Enter trainer specialization: \")\n",
        "    cursor.execute(\"INSERT INTO Trainers (Name, Specialization) VALUES (?, ?)\", (name, specialization))\n",
        "    conn.commit()\n",
        "    print(f\"{name} has been added as a trainer.\")\n",
        "\n",
        "# Function to remove a trainer\n",
        "def remove_trainer():\n",
        "    trainer_id = input(\"Enter trainer ID to remove: \")\n",
        "    cursor.execute(\"DELETE FROM Trainers WHERE TrainerID=?\", (trainer_id,))\n",
        "    conn.commit()\n",
        "    print(f\"Trainer with ID {trainer_id} has been removed.\")\n",
        "\n",
        "# Function to add staff\n",
        "def add_staff():\n",
        "    name = input(\"Enter staff name: \")\n",
        "    position = input(\"Enter staff position: \")\n",
        "    cursor.execute(\"INSERT INTO Staff (Name, Position) VALUES (?, ?)\", (name, position))\n",
        "    conn.commit()\n",
        "    print(f\"{name} has been added as staff.\")\n",
        "\n",
        "# Function to remove staff\n",
        "def remove_staff():\n",
        "    staff_id = input(\"Enter staff ID to remove: \")\n",
        "    cursor.execute(\"DELETE FROM Staff WHERE StaffID=?\", (staff_id,))\n",
        "    conn.commit()\n",
        "    print(f\"Staff with ID {staff_id} has been removed.\")\n",
        "\n",
        "# Function to view member information\n",
        "def view_member_info():\n",
        "    cursor.execute(\"SELECT * FROM Members\")\n",
        "    members = cursor.fetchall()\n",
        "    print(\"\\nGym Member Information:\")\n",
        "    for member in members:\n",
        "        print(f\"Member ID: {member[0]}, Name: {member[1]}, Fee Status: {member[2]}\")\n",
        "\n",
        "# Function to view trainer information\n",
        "def view_trainer_info(cursor):\n",
        "    cursor.execute(\"SELECT * FROM Trainers\")\n",
        "    trainers = cursor.fetchall()\n",
        "\n",
        "    print(\"\\nGym Trainer Information:\")\n",
        "    for trainer in trainers:\n",
        "        trainer_id, name, salary, member_trained = trainer\n",
        "        cursor.execute(f\"SELECT * FROM Members WHERE TrainerID = {trainer_id}\")\n",
        "        trained_members = cursor.fetchall()\n",
        "\n",
        "        print(f\"Trainer ID: {trainer_id}, Name: {name}, Salary: {salary}, Member Trained: {member_trained}\")\n",
        "\n",
        "        print(\"Trained Members:\")\n",
        "        for member in trained_members:\n",
        "            member_id, member_name, fee_status = member\n",
        "            print(f\"    Member ID: {member_id}, Name: {member_name}, Fee Status: {fee_status}\")\n",
        "\n",
        "# Function to view staff information\n",
        "def view_staff_info():\n",
        "    cursor.execute(\"SELECT * FROM Staff\")\n",
        "    staff = cursor.fetchall()\n",
        "    print(\"\\nStaff Information:\")\n",
        "    for member in staff:\n",
        "        print(f\"Staff ID: {member[0]}, Name: {member[1]}, Position: {member[2]}, Salary Status: {member[3]}\")\n",
        "\n",
        "# Main program loop\n",
        "while True:\n",
        "    display_menu()\n",
        "    choice = input(\"Enter your choice (0-9): \")\n",
        "\n",
        "    if choice == '1':\n",
        "        add_member()\n",
        "    elif choice == '2':\n",
        "        remove_member()\n",
        "    elif choice == '3':\n",
        "        add_trainer()\n",
        "    elif choice == '4':\n",
        "        remove_trainer()\n",
        "    elif choice == '5':\n",
        "        add_staff()\n",
        "    elif choice == '6':\n",
        "        remove_staff()\n",
        "    elif choice == '7':\n",
        "        view_member_info()\n",
        "    elif choice == '8':\n",
        "        view_trainer_info()\n",
        "    elif choice == '9':\n",
        "        view_staff_info()\n",
        "    elif choice == '0':\n",
        "        break\n",
        "    else:\n",
        "        print(\"Invalid choice. Please enter a number between 0 and 9.\")\n",
        "\n",
        "# Close the database connection\n",
        "conn.close()"
      ],
      "metadata": {
        "id": "7czKbwHf66_w"
      },
      "execution_count": null,
      "outputs": []
    }
  ]
}